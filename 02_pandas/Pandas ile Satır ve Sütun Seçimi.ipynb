{
 "cells": [
  {
   "cell_type": "code",
   "execution_count": 1,
   "metadata": {},
   "outputs": [],
   "source": [
    "import pandas as pd"
   ]
  },
  {
   "cell_type": "code",
   "execution_count": 2,
   "metadata": {},
   "outputs": [],
   "source": [
    "film_listesi = pd.read_csv(\"http://www.datascience.istanbul/data/imdbratings.data\")"
   ]
  },
  {
   "cell_type": "code",
   "execution_count": 3,
   "metadata": {},
   "outputs": [
    {
     "data": {
      "text/html": [
       "<div>\n",
       "<style scoped>\n",
       "    .dataframe tbody tr th:only-of-type {\n",
       "        vertical-align: middle;\n",
       "    }\n",
       "\n",
       "    .dataframe tbody tr th {\n",
       "        vertical-align: top;\n",
       "    }\n",
       "\n",
       "    .dataframe thead th {\n",
       "        text-align: right;\n",
       "    }\n",
       "</style>\n",
       "<table border=\"1\" class=\"dataframe\">\n",
       "  <thead>\n",
       "    <tr style=\"text-align: right;\">\n",
       "      <th></th>\n",
       "      <th>star_rating</th>\n",
       "      <th>title</th>\n",
       "      <th>content_rating</th>\n",
       "      <th>genre</th>\n",
       "      <th>duration</th>\n",
       "      <th>actors_list</th>\n",
       "    </tr>\n",
       "  </thead>\n",
       "  <tbody>\n",
       "    <tr>\n",
       "      <th>0</th>\n",
       "      <td>9.3</td>\n",
       "      <td>The Shawshank Redemption</td>\n",
       "      <td>R</td>\n",
       "      <td>Crime</td>\n",
       "      <td>142</td>\n",
       "      <td>[u'Tim Robbins', u'Morgan Freeman', u'Bob Gunt...</td>\n",
       "    </tr>\n",
       "    <tr>\n",
       "      <th>1</th>\n",
       "      <td>9.2</td>\n",
       "      <td>The Godfather</td>\n",
       "      <td>R</td>\n",
       "      <td>Crime</td>\n",
       "      <td>175</td>\n",
       "      <td>[u'Marlon Brando', u'Al Pacino', u'James Caan']</td>\n",
       "    </tr>\n",
       "    <tr>\n",
       "      <th>2</th>\n",
       "      <td>9.1</td>\n",
       "      <td>The Godfather: Part II</td>\n",
       "      <td>R</td>\n",
       "      <td>Crime</td>\n",
       "      <td>200</td>\n",
       "      <td>[u'Al Pacino', u'Robert De Niro', u'Robert Duv...</td>\n",
       "    </tr>\n",
       "    <tr>\n",
       "      <th>3</th>\n",
       "      <td>9.0</td>\n",
       "      <td>The Dark Knight</td>\n",
       "      <td>PG-13</td>\n",
       "      <td>Action</td>\n",
       "      <td>152</td>\n",
       "      <td>[u'Christian Bale', u'Heath Ledger', u'Aaron E...</td>\n",
       "    </tr>\n",
       "    <tr>\n",
       "      <th>4</th>\n",
       "      <td>8.9</td>\n",
       "      <td>Pulp Fiction</td>\n",
       "      <td>R</td>\n",
       "      <td>Crime</td>\n",
       "      <td>154</td>\n",
       "      <td>[u'John Travolta', u'Uma Thurman', u'Samuel L....</td>\n",
       "    </tr>\n",
       "  </tbody>\n",
       "</table>\n",
       "</div>"
      ],
      "text/plain": [
       "   star_rating                     title content_rating   genre  duration  \\\n",
       "0          9.3  The Shawshank Redemption              R   Crime       142   \n",
       "1          9.2             The Godfather              R   Crime       175   \n",
       "2          9.1    The Godfather: Part II              R   Crime       200   \n",
       "3          9.0           The Dark Knight          PG-13  Action       152   \n",
       "4          8.9              Pulp Fiction              R   Crime       154   \n",
       "\n",
       "                                         actors_list  \n",
       "0  [u'Tim Robbins', u'Morgan Freeman', u'Bob Gunt...  \n",
       "1    [u'Marlon Brando', u'Al Pacino', u'James Caan']  \n",
       "2  [u'Al Pacino', u'Robert De Niro', u'Robert Duv...  \n",
       "3  [u'Christian Bale', u'Heath Ledger', u'Aaron E...  \n",
       "4  [u'John Travolta', u'Uma Thurman', u'Samuel L....  "
      ]
     },
     "execution_count": 3,
     "metadata": {},
     "output_type": "execute_result"
    }
   ],
   "source": [
    "film_listesi.head()"
   ]
  },
  {
   "cell_type": "code",
   "execution_count": 5,
   "metadata": {},
   "outputs": [
    {
     "data": {
      "text/plain": [
       "(979, 6)"
      ]
     },
     "execution_count": 5,
     "metadata": {},
     "output_type": "execute_result"
    }
   ],
   "source": [
    "film_listesi.shape"
   ]
  },
  {
   "cell_type": "markdown",
   "metadata": {},
   "source": [
    "     Veri hazırlığı ile ilgli İşlemler Tamamlanır"
   ]
  },
  {
   "cell_type": "code",
   "execution_count": null,
   "metadata": {},
   "outputs": [],
   "source": [
    "# 979 satırın ilk 600 tanesini train kalanını test olsun"
   ]
  },
  {
   "cell_type": "code",
   "execution_count": 10,
   "metadata": {},
   "outputs": [],
   "source": [
    "# star_rating hedef değişken y olsun varsayalım"
   ]
  },
  {
   "cell_type": "code",
   "execution_count": 35,
   "metadata": {},
   "outputs": [],
   "source": [
    "# 0 dahil 600'üncü satır hariç toplam 600 satır\n",
    "y_train = film_listesi.iloc[0:600, 0].values"
   ]
  },
  {
   "cell_type": "code",
   "execution_count": 36,
   "metadata": {},
   "outputs": [
    {
     "data": {
      "text/plain": [
       "(600,)"
      ]
     },
     "execution_count": 36,
     "metadata": {},
     "output_type": "execute_result"
    }
   ],
   "source": [
    "y_train.shape"
   ]
  },
  {
   "cell_type": "code",
   "execution_count": 37,
   "metadata": {},
   "outputs": [
    {
     "data": {
      "text/plain": [
       "array([9.3, 9.2, 9.1, 9. , 8.9, 8.9, 8.9, 8.9, 8.9, 8.9])"
      ]
     },
     "execution_count": 37,
     "metadata": {},
     "output_type": "execute_result"
    }
   ],
   "source": [
    "# y_train'nin ilk 10 elemanına bakalım\n",
    "y_train[0:10]"
   ]
  },
  {
   "cell_type": "code",
   "execution_count": 41,
   "metadata": {},
   "outputs": [],
   "source": [
    "# 600 ile 979 arası y_test\n",
    "y_test = film_listesi.iloc[600:980, 0].values"
   ]
  },
  {
   "cell_type": "code",
   "execution_count": 42,
   "metadata": {},
   "outputs": [
    {
     "data": {
      "text/plain": [
       "(379,)"
      ]
     },
     "execution_count": 42,
     "metadata": {},
     "output_type": "execute_result"
    }
   ],
   "source": [
    "y_test.shape"
   ]
  },
  {
   "cell_type": "code",
   "execution_count": 47,
   "metadata": {},
   "outputs": [
    {
     "data": {
      "text/plain": [
       "array([7.7, 7.7, 7.7, 7.7, 7.7, 7.7, 7.7, 7.7, 7.7, 7.7])"
      ]
     },
     "execution_count": 47,
     "metadata": {},
     "output_type": "execute_result"
    }
   ],
   "source": [
    "y_test[:10]"
   ]
  },
  {
   "cell_type": "code",
   "execution_count": 15,
   "metadata": {},
   "outputs": [],
   "source": [
    "# Kalanların hepsi X olsun"
   ]
  },
  {
   "cell_type": "code",
   "execution_count": 48,
   "metadata": {},
   "outputs": [],
   "source": [
    "X_train = film_listesi.iloc[0:600, 1:6].values"
   ]
  },
  {
   "cell_type": "code",
   "execution_count": 49,
   "metadata": {},
   "outputs": [
    {
     "data": {
      "text/plain": [
       "(600, 5)"
      ]
     },
     "execution_count": 49,
     "metadata": {},
     "output_type": "execute_result"
    }
   ],
   "source": [
    "X_train.shape"
   ]
  },
  {
   "cell_type": "code",
   "execution_count": 50,
   "metadata": {},
   "outputs": [
    {
     "data": {
      "text/plain": [
       "array([['The Shawshank Redemption', 'R', 'Crime', 142,\n",
       "        \"[u'Tim Robbins', u'Morgan Freeman', u'Bob Gunton']\"],\n",
       "       ['The Godfather', 'R', 'Crime', 175,\n",
       "        \"[u'Marlon Brando', u'Al Pacino', u'James Caan']\"],\n",
       "       ['The Godfather: Part II', 'R', 'Crime', 200,\n",
       "        \"[u'Al Pacino', u'Robert De Niro', u'Robert Duvall']\"],\n",
       "       ['The Dark Knight', 'PG-13', 'Action', 152,\n",
       "        \"[u'Christian Bale', u'Heath Ledger', u'Aaron Eckhart']\"],\n",
       "       ['Pulp Fiction', 'R', 'Crime', 154,\n",
       "        \"[u'John Travolta', u'Uma Thurman', u'Samuel L. Jackson']\"],\n",
       "       ['12 Angry Men', 'NOT RATED', 'Drama', 96,\n",
       "        \"[u'Henry Fonda', u'Lee J. Cobb', u'Martin Balsam']\"],\n",
       "       ['The Good, the Bad and the Ugly', 'NOT RATED', 'Western', 161,\n",
       "        \"[u'Clint Eastwood', u'Eli Wallach', u'Lee Van Cleef']\"],\n",
       "       ['The Lord of the Rings: The Return of the King', 'PG-13',\n",
       "        'Adventure', 201,\n",
       "        \"[u'Elijah Wood', u'Viggo Mortensen', u'Ian McKellen']\"],\n",
       "       [\"Schindler's List\", 'R', 'Biography', 195,\n",
       "        \"[u'Liam Neeson', u'Ralph Fiennes', u'Ben Kingsley']\"],\n",
       "       ['Fight Club', 'R', 'Drama', 139,\n",
       "        \"[u'Brad Pitt', u'Edward Norton', u'Helena Bonham Carter']\"]],\n",
       "      dtype=object)"
      ]
     },
     "execution_count": 50,
     "metadata": {},
     "output_type": "execute_result"
    }
   ],
   "source": [
    "# X'in ilk 10 değeri\n",
    "X_train[:10]"
   ]
  },
  {
   "cell_type": "code",
   "execution_count": 51,
   "metadata": {},
   "outputs": [],
   "source": [
    "X_test =film_listesi.iloc[600:980,1:6].values"
   ]
  },
  {
   "cell_type": "code",
   "execution_count": 52,
   "metadata": {},
   "outputs": [
    {
     "data": {
      "text/plain": [
       "(379, 5)"
      ]
     },
     "execution_count": 52,
     "metadata": {},
     "output_type": "execute_result"
    }
   ],
   "source": [
    "X_test.shape"
   ]
  },
  {
   "cell_type": "code",
   "execution_count": 53,
   "metadata": {},
   "outputs": [
    {
     "data": {
      "text/plain": [
       "array([['Barton Fink', 'R', 'Drama', 116,\n",
       "        \"[u'John Turturro', u'John Goodman', u'Judy Davis']\"],\n",
       "       ['The Last King of Scotland', 'R', 'Biography', 123,\n",
       "        \"[u'James McAvoy', u'Forest Whitaker', u'Gillian Anderson']\"],\n",
       "       ['Adaptation.', 'R', 'Comedy', 114,\n",
       "        \"[u'Nicolas Cage', u'Meryl Streep', u'Chris Cooper']\"],\n",
       "       ['A Very Long Engagement', 'R', 'Drama', 133,\n",
       "        \"[u'Audrey Tautou', u'Gaspard Ulliel', u'Jodie Foster']\"],\n",
       "       ['Mysterious Skin', 'NC-17', 'Drama', 105,\n",
       "        \"[u'Brady Corbet', u'Joseph Gordon-Levitt', u'Elisabeth Shue']\"],\n",
       "       ['Stardust', 'PG-13', 'Adventure', 127,\n",
       "        \"[u'Charlie Cox', u'Claire Danes', u'Sienna Miller']\"],\n",
       "       ['Black Hawk Down', 'R', 'Drama', 144,\n",
       "        \"[u'Josh Hartnett', u'Ewan McGregor', u'Tom Sizemore']\"],\n",
       "       ['Paprika', 'R', 'Animation', 90,\n",
       "        \"[u'Megumi Hayashibara', u'T\\\\xf4ru Emori', u'Katsunosuke Hori']\"],\n",
       "       ['Fear and Loathing in Las Vegas', 'R', 'Comedy', 118,\n",
       "        \"[u'Johnny Depp', u'Benicio Del Toro', u'Tobey Maguire']\"],\n",
       "       ['Frost/Nixon', 'R', 'Drama', 122,\n",
       "        \"[u'Frank Langella', u'Michael Sheen', u'Kevin Bacon']\"]],\n",
       "      dtype=object)"
      ]
     },
     "execution_count": 53,
     "metadata": {},
     "output_type": "execute_result"
    }
   ],
   "source": [
    "X_test[:10]"
   ]
  },
  {
   "cell_type": "code",
   "execution_count": null,
   "metadata": {},
   "outputs": [],
   "source": []
  }
 ],
 "metadata": {
  "kernelspec": {
   "display_name": "Python 3",
   "language": "python",
   "name": "python3"
  },
  "language_info": {
   "codemirror_mode": {
    "name": "ipython",
    "version": 3
   },
   "file_extension": ".py",
   "mimetype": "text/x-python",
   "name": "python",
   "nbconvert_exporter": "python",
   "pygments_lexer": "ipython3",
   "version": "3.7.1"
  }
 },
 "nbformat": 4,
 "nbformat_minor": 2
}
