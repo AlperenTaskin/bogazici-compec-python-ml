{
 "cells": [
  {
   "cell_type": "markdown",
   "metadata": {},
   "source": [
    "# karakter dizisi birleştirme"
   ]
  },
  {
   "cell_type": "code",
   "execution_count": 1,
   "metadata": {},
   "outputs": [],
   "source": [
    "alan_adı = \"datalonga\"\n",
    "uzantı = \"com\""
   ]
  },
  {
   "cell_type": "code",
   "execution_count": 3,
   "metadata": {},
   "outputs": [
    {
     "name": "stdout",
     "output_type": "stream",
     "text": [
      "datalonga.com\n"
     ]
    }
   ],
   "source": [
    "print(alan_adı+\".\"+uzantı)"
   ]
  },
  {
   "cell_type": "markdown",
   "metadata": {},
   "source": [
    "# format()"
   ]
  },
  {
   "cell_type": "code",
   "execution_count": 6,
   "metadata": {},
   "outputs": [
    {
     "name": "stdout",
     "output_type": "stream",
     "text": [
      "Satın aldığınız 'datalonga.com' alan adı bir yıl geçerlidir.\n"
     ]
    }
   ],
   "source": [
    "print(\"Satın aldığınız '{}.{}' alan adı bir yıl geçerlidir.\".format(alan_adı,uzantı))"
   ]
  },
  {
   "cell_type": "code",
   "execution_count": 9,
   "metadata": {},
   "outputs": [
    {
     "name": "stdout",
     "output_type": "stream",
     "text": [
      "13 yaşında Ahmet adında bir çocuğum var.\n"
     ]
    }
   ],
   "source": [
    "print(\"{} yaşında {} adında bir çocuğum var.\".format(13, \"Ahmet\"))"
   ]
  },
  {
   "cell_type": "code",
   "execution_count": 10,
   "metadata": {},
   "outputs": [
    {
     "name": "stdout",
     "output_type": "stream",
     "text": [
      "tarih: 2019\n",
      "üniversite adı: Gazi\n",
      "fakülte adı: Comp Sci\n",
      "bölüm adı: Comp Eng\n",
      "öğrenci no. :111\n",
      "öğretim yılı: 2018-2019\n",
      "yarıyıl: Bahar\n",
      "öğrencinin adı: Erkan\n",
      "öğrencinin soyadı: ŞİRİN\n",
      "TC Kimlik no. :3333\n",
      "adres: aasa\n",
      "telefon: 321093838383838\n",
      "ekler: dd\n"
     ]
    }
   ],
   "source": [
    "dilekçe = \"\"\"\n",
    "                                                    tarih: {}\n",
    "\n",
    "\n",
    "T.C.\n",
    "{} ÜNİVERSİTESİ\n",
    "{} Fakültesi Dekanlığına\n",
    "\n",
    "\n",
    "Fakülteniz {} Bölümü {} numaralı öğrencisiyim. Ekte sunduğum belgede\n",
    "belirtilen mazeretim gereğince {} Eğitim-Öğretim Yılı  {}.\n",
    "yarıyılında öğrenime ara izni (kayıt dondurma) istiyorum.\n",
    "\n",
    "    Bilgilerinizi ve gereğini arz ederim.\n",
    "\n",
    "        İmza\n",
    "\n",
    "Ad              : {}\n",
    "Soyad           : {}\n",
    "T.C. Kimlik No. : {}\n",
    "Adres           : {}\n",
    "Tel.            : {}\n",
    "Ekler           : {}\n",
    "\"\"\"\n",
    "\n",
    "\n",
    "tarih           = input(\"tarih: \")\n",
    "üniversite      = input(\"üniversite adı: \")\n",
    "fakülte         = input(\"fakülte adı: \")\n",
    "bölüm           = input(\"bölüm adı: \")\n",
    "öğrenci_no      = input(\"öğrenci no. :\")\n",
    "öğretim_yılı    = input(\"öğretim yılı: \")\n",
    "yarıyıl         = input(\"yarıyıl: \")\n",
    "ad              = input(\"öğrencinin adı: \")\n",
    "soyad           = input(\"öğrencinin soyadı: \")\n",
    "tc_kimlik_no    = input(\"TC Kimlik no. :\")\n",
    "adres           = input(\"adres: \")\n",
    "tel             = input(\"telefon: \")\n",
    "ekler           = input(\"ekler: \")"
   ]
  },
  {
   "cell_type": "code",
   "execution_count": 11,
   "metadata": {},
   "outputs": [
    {
     "name": "stdout",
     "output_type": "stream",
     "text": [
      "\n",
      "                                                    tarih: 2019\n",
      "\n",
      "\n",
      "T.C.\n",
      "Gazi ÜNİVERSİTESİ\n",
      "Comp Sci Fakültesi Dekanlığına\n",
      "\n",
      "\n",
      "Fakülteniz Comp Eng Bölümü 111 numaralı öğrencisiyim. Ekte sunduğum belgede\n",
      "belirtilen mazeretim gereğince 2018-2019 Eğitim-Öğretim Yılı  Bahar.\n",
      "yarıyılında öğrenime ara izni (kayıt dondurma) istiyorum.\n",
      "\n",
      "    Bilgilerinizi ve gereğini arz ederim.\n",
      "\n",
      "        İmza\n",
      "\n",
      "Ad              : Erkan\n",
      "Soyad           : ŞİRİN\n",
      "T.C. Kimlik No. : 3333\n",
      "Adres           : aasa\n",
      "Tel.            : 321093838383838\n",
      "Ekler           : dd\n",
      "\n"
     ]
    }
   ],
   "source": [
    "print(dilekçe.format(tarih, üniversite, fakülte, bölüm,\n",
    "                     öğrenci_no, öğretim_yılı, yarıyıl,\n",
    "                     ad, soyad, tc_kimlik_no,\n",
    "                     adres, tel, ekler))"
   ]
  },
  {
   "cell_type": "code",
   "execution_count": null,
   "metadata": {},
   "outputs": [],
   "source": []
  }
 ],
 "metadata": {
  "kernelspec": {
   "display_name": "Python 3",
   "language": "python",
   "name": "python3"
  },
  "language_info": {
   "codemirror_mode": {
    "name": "ipython",
    "version": 3
   },
   "file_extension": ".py",
   "mimetype": "text/x-python",
   "name": "python",
   "nbconvert_exporter": "python",
   "pygments_lexer": "ipython3",
   "version": "3.7.1"
  }
 },
 "nbformat": 4,
 "nbformat_minor": 2
}
