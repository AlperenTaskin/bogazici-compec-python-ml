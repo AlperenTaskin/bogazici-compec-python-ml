{
 "cells": [
  {
   "cell_type": "markdown",
   "metadata": {},
   "source": [
    "# Dosya Oluşturmak"
   ]
  },
  {
   "cell_type": "markdown",
   "metadata": {},
   "source": [
    "    f = open(dosya_adı, kip)"
   ]
  },
  {
   "cell_type": "markdown",
   "metadata": {},
   "source": [
    "# Yazma kipinde açmak"
   ]
  },
  {
   "cell_type": "code",
   "execution_count": 6,
   "metadata": {},
   "outputs": [],
   "source": [
    "dosya_yazıcı = open(\"D:\\\\yeni_dosya.txt\", \"w\")"
   ]
  },
  {
   "cell_type": "markdown",
   "metadata": {},
   "source": [
    "# Dosya içine yazmak"
   ]
  },
  {
   "cell_type": "code",
   "execution_count": 7,
   "metadata": {},
   "outputs": [],
   "source": [
    "dosya_yazıcı.write(\"İlk satır\\nİkinci satır\\nÜçüncü satır\")\n",
    "dosya_yazıcı.close() # içini görmek için kapatalım ki bellekten diske yazsın."
   ]
  },
  {
   "cell_type": "markdown",
   "metadata": {},
   "source": [
    "# Dosyadan Okumak"
   ]
  },
  {
   "cell_type": "markdown",
   "metadata": {},
   "source": [
    "## read()"
   ]
  },
  {
   "cell_type": "code",
   "execution_count": 19,
   "metadata": {},
   "outputs": [
    {
     "name": "stdout",
     "output_type": "stream",
     "text": [
      "İlk satır\n",
      "İkinci satır\n",
      "Üçüncü satır\n"
     ]
    }
   ],
   "source": [
    "dosya_okuyucu = open(\"D:\\\\yeni_dosya.txt\", \"r\")\n",
    "print(dosya_okuyucu.read())"
   ]
  },
  {
   "cell_type": "code",
   "execution_count": 20,
   "metadata": {},
   "outputs": [
    {
     "name": "stdout",
     "output_type": "stream",
     "text": [
      "\n"
     ]
    }
   ],
   "source": [
    "print(dosya_okuyucu.read())"
   ]
  },
  {
   "cell_type": "markdown",
   "metadata": {},
   "source": [
    "## readlines()"
   ]
  },
  {
   "cell_type": "code",
   "execution_count": 21,
   "metadata": {},
   "outputs": [
    {
     "name": "stdout",
     "output_type": "stream",
     "text": [
      "['İlk satır\\n', 'İkinci satır\\n', 'Üçüncü satır']\n"
     ]
    }
   ],
   "source": [
    "dosya_okuyucu = open(\"D:\\\\yeni_dosya.txt\", \"r\")\n",
    "print(dosya_okuyucu.readlines())"
   ]
  },
  {
   "cell_type": "code",
   "execution_count": 22,
   "metadata": {},
   "outputs": [
    {
     "name": "stdout",
     "output_type": "stream",
     "text": [
      "\n"
     ]
    }
   ],
   "source": [
    "print(dosya_okuyucu.read())"
   ]
  },
  {
   "cell_type": "markdown",
   "metadata": {},
   "source": [
    "## readline()"
   ]
  },
  {
   "cell_type": "code",
   "execution_count": 23,
   "metadata": {},
   "outputs": [
    {
     "name": "stdout",
     "output_type": "stream",
     "text": [
      "İlk satır\n",
      "\n"
     ]
    }
   ],
   "source": [
    "dosya_okuyucu = open(\"D:\\\\yeni_dosya.txt\", \"r\")\n",
    "print(dosya_okuyucu.readline())"
   ]
  },
  {
   "cell_type": "code",
   "execution_count": 24,
   "metadata": {},
   "outputs": [
    {
     "name": "stdout",
     "output_type": "stream",
     "text": [
      "İkinci satır\n",
      "\n"
     ]
    }
   ],
   "source": [
    "print(dosya_okuyucu.readline())"
   ]
  },
  {
   "cell_type": "code",
   "execution_count": 25,
   "metadata": {},
   "outputs": [
    {
     "name": "stdout",
     "output_type": "stream",
     "text": [
      "Üçüncü satır\n"
     ]
    }
   ],
   "source": [
    "print(dosya_okuyucu.read())"
   ]
  },
  {
   "cell_type": "code",
   "execution_count": null,
   "metadata": {},
   "outputs": [],
   "source": []
  }
 ],
 "metadata": {
  "kernelspec": {
   "display_name": "Python 3",
   "language": "python",
   "name": "python3"
  },
  "language_info": {
   "codemirror_mode": {
    "name": "ipython",
    "version": 3
   },
   "file_extension": ".py",
   "mimetype": "text/x-python",
   "name": "python",
   "nbconvert_exporter": "python",
   "pygments_lexer": "ipython3",
   "version": "3.7.1"
  }
 },
 "nbformat": 4,
 "nbformat_minor": 2
}
