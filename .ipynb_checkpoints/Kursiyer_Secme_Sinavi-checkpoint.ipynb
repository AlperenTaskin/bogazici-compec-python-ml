{
 "cells": [
  {
   "cell_type": "markdown",
   "metadata": {},
   "source": [
    "# Soru-1"
   ]
  },
  {
   "cell_type": "markdown",
   "metadata": {},
   "source": [
    "    \"beni büyük harf yap\" cümlesinin tüm harflerini büyük harf yapan ve ekrana yazdıran Python kodlarını yazınız."
   ]
  },
  {
   "cell_type": "markdown",
   "metadata": {},
   "source": [
    "# Cevap-1"
   ]
  },
  {
   "cell_type": "code",
   "execution_count": 12,
   "metadata": {},
   "outputs": [
    {
     "name": "stdout",
     "output_type": "stream",
     "text": [
      "BENI BÜYÜK HARF YAP\n"
     ]
    }
   ],
   "source": [
    "print(\"beni büyük harf yap\".upper())"
   ]
  },
  {
   "cell_type": "markdown",
   "metadata": {},
   "source": [
    "# Soru-2"
   ]
  },
  {
   "cell_type": "markdown",
   "metadata": {},
   "source": [
    "    1 ile 10 arasındaki tam sayıları (1 ve 10 dahil) azalan şekilde ekrana yazdıran Python kodlarını yazınız."
   ]
  },
  {
   "cell_type": "markdown",
   "metadata": {},
   "source": [
    "# Cevap-2"
   ]
  },
  {
   "cell_type": "code",
   "execution_count": 7,
   "metadata": {},
   "outputs": [
    {
     "name": "stdout",
     "output_type": "stream",
     "text": [
      "10\n",
      "9\n",
      "8\n",
      "7\n",
      "6\n",
      "5\n",
      "4\n",
      "3\n",
      "2\n",
      "1\n"
     ]
    }
   ],
   "source": [
    "for i in range(10,0,-1):\n",
    "    print(i)"
   ]
  },
  {
   "cell_type": "markdown",
   "metadata": {},
   "source": [
    "# Soru-3"
   ]
  },
  {
   "cell_type": "markdown",
   "metadata": {},
   "source": [
    "    3 ile 19 arasındaki tek sayıları (3 ve 19 dahil) ekrana yazdıran Python kodlarını yazınız."
   ]
  },
  {
   "cell_type": "markdown",
   "metadata": {},
   "source": [
    "# Cevap-3"
   ]
  },
  {
   "cell_type": "code",
   "execution_count": 8,
   "metadata": {},
   "outputs": [
    {
     "name": "stdout",
     "output_type": "stream",
     "text": [
      "3\n",
      "5\n",
      "7\n",
      "9\n",
      "11\n",
      "13\n",
      "15\n",
      "17\n",
      "19\n"
     ]
    }
   ],
   "source": [
    "for i in range(3,20,1):\n",
    "    if(i%2) != 0:\n",
    "        print(i)"
   ]
  },
  {
   "cell_type": "markdown",
   "metadata": {},
   "source": [
    "# Soru-4"
   ]
  },
  {
   "cell_type": "markdown",
   "metadata": {},
   "source": [
    "    [1,3,[\"Elma\",\"Muz\"], 25,198, [22,32]] Python listesinde bulunan Muz'u ekrana yazdırınız."
   ]
  },
  {
   "cell_type": "markdown",
   "metadata": {},
   "source": [
    "# Cevap-4"
   ]
  },
  {
   "cell_type": "code",
   "execution_count": 10,
   "metadata": {},
   "outputs": [
    {
     "name": "stdout",
     "output_type": "stream",
     "text": [
      "Muz\n"
     ]
    }
   ],
   "source": [
    "my_list = [1,3,[\"Elma\",\"Muz\"], 25,198, [22,32]]\n",
    "print(my_list[2][1])"
   ]
  },
  {
   "cell_type": "markdown",
   "metadata": {},
   "source": [
    "# Soru-5"
   ]
  },
  {
   "cell_type": "markdown",
   "metadata": {},
   "source": [
    "    {\"Ankara\":[\"Etimesgut\",\"Çankaya\",\"Yenimahalle\"], \"İstanbul\":[[\"Kadıköy-Rıhtım\",\"Kadıköy-Boğa\"],\"Üsküdar\",\"Beşiktaş\"]}\n",
    "    Bir şirkete ait şubeler yukarıdaki Python sözlük yapısı içinde belirtilmiştir. Bu şirketin Kadıköy-Boğa şubesini ekrana yazdırınız."
   ]
  },
  {
   "cell_type": "code",
   "execution_count": 13,
   "metadata": {},
   "outputs": [
    {
     "name": "stdout",
     "output_type": "stream",
     "text": [
      "Kadıköy-Boğa\n"
     ]
    }
   ],
   "source": [
    "sirket_sozluk = {\"Ankara\":[\"Etimesgut\",\"Çankaya\",\"Yenimahalle\"], \"İstanbul\":[[\"Kadıköy-Rıhtım\",\"Kadıköy-Boğa\"],\"Üsküdar\",\"Beşiktaş\"]}\n",
    "print(sirket_sozluk[\"İstanbul\"][0][1])"
   ]
  },
  {
   "cell_type": "markdown",
   "metadata": {},
   "source": [
    "# Soru-6"
   ]
  },
  {
   "cell_type": "markdown",
   "metadata": {},
   "source": [
    "    Veri bilimi çalışmalarında kullanılan üç adet Python kütüphensini yazınız."
   ]
  },
  {
   "cell_type": "markdown",
   "metadata": {},
   "source": [
    "# Cevap-6"
   ]
  },
  {
   "cell_type": "markdown",
   "metadata": {},
   "source": [
    "    1. pandas\n",
    "    2. numpy\n",
    "    3. matplotlib\n",
    "    4. sklearn veya scikit-learn\n",
    "    5. seaborn\n",
    "    6. scipy"
   ]
  },
  {
   "cell_type": "markdown",
   "metadata": {},
   "source": [
    "# Soru-7"
   ]
  },
  {
   "cell_type": "markdown",
   "metadata": {},
   "source": [
    "    Sınıflandırma algoritmalarından üç tanesini yazınız."
   ]
  },
  {
   "cell_type": "markdown",
   "metadata": {},
   "source": [
    "# Cevap-7"
   ]
  },
  {
   "cell_type": "markdown",
   "metadata": {},
   "source": [
    "    1. K-Enyakın Komşu (K-Nearest eigbor)\n",
    "    2. Naive Bayes\n",
    "    3. Karar Ağacı (Decision Tree)\n",
    "    4. Rastgele Orman (Random Forest)\n",
    "    5. Destek Vektör makinesi (Support Vector Machine) ya da SVM\n",
    "    6. Lojistik Regresyon"
   ]
  },
  {
   "cell_type": "markdown",
   "metadata": {},
   "source": [
    "# Soru-8"
   ]
  },
  {
   "cell_type": "markdown",
   "metadata": {},
   "source": [
    "    İki numerik değişken ile ilgili olarak korelasyon neyi ölçer?"
   ]
  },
  {
   "cell_type": "markdown",
   "metadata": {},
   "source": [
    "# Cevap-8"
   ]
  },
  {
   "cell_type": "markdown",
   "metadata": {},
   "source": [
    "Korelasyon iki değişken arasındaki doğrusal ilişkiyi ölçer."
   ]
  },
  {
   "cell_type": "markdown",
   "metadata": {},
   "source": [
    "# Soru-9"
   ]
  },
  {
   "cell_type": "markdown",
   "metadata": {},
   "source": [
    "    Sınıflandırma model değerlendirme esnasında kullanılan kavramlardan üç tanseini yazınız. Örneğin: Accuracy"
   ]
  },
  {
   "cell_type": "markdown",
   "metadata": {},
   "source": [
    "# Cevap-9"
   ]
  },
  {
   "cell_type": "markdown",
   "metadata": {},
   "source": [
    "    1. Accuracy\n",
    "    2. F1 Score\n",
    "    3. Precision\n",
    "    4. Recall\n",
    "    5. ROC AUC Score\n",
    "    6. False Positive\n",
    "    7. False Negative\n",
    "    8. True Positive\n",
    "    9. True Negative"
   ]
  },
  {
   "cell_type": "markdown",
   "metadata": {},
   "source": [
    "# Soru-10"
   ]
  },
  {
   "cell_type": "markdown",
   "metadata": {},
   "source": [
    "    İstatistiksel hipotez testinde Tip-1 hata ne anlama gelir?"
   ]
  },
  {
   "cell_type": "markdown",
   "metadata": {},
   "source": [
    "# Cevap-10"
   ]
  },
  {
   "cell_type": "markdown",
   "metadata": {},
   "source": [
    "H0 hipotezi doğru iken onu reddememektir."
   ]
  }
 ],
 "metadata": {
  "kernelspec": {
   "display_name": "Python 3",
   "language": "python",
   "name": "python3"
  },
  "language_info": {
   "codemirror_mode": {
    "name": "ipython",
    "version": 3
   },
   "file_extension": ".py",
   "mimetype": "text/x-python",
   "name": "python",
   "nbconvert_exporter": "python",
   "pygments_lexer": "ipython3",
   "version": "3.7.1"
  }
 },
 "nbformat": 4,
 "nbformat_minor": 2
}
